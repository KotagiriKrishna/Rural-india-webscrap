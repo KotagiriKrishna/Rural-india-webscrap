{
  "nbformat": 4,
  "nbformat_minor": 0,
  "metadata": {
    "colab": {
      "provenance": []
    },
    "kernelspec": {
      "name": "python3",
      "display_name": "Python 3"
    },
    "language_info": {
      "name": "python"
    }
  },
  "cells": [
    {
      "cell_type": "code",
      "execution_count": null,
      "metadata": {
        "id": "IOBcAUYIPp68"
      },
      "outputs": [],
      "source": [
        "import re\n",
        "\n",
        "def titlesExt(soup):\n",
        "    page_title = soup.find('title').get_text(strip=True) if soup.find('title') else 'No Title Found'\n",
        "    title_column_data = {\"Topic/Subject\": page_title}\n",
        "\n",
        "    return title_column_data\n",
        "\n",
        "def imagesExt(soup):\n",
        "    images = []\n",
        "    for img_tag in soup.find_all('img'):\n",
        "        img_src = img_tag.get('src')\n",
        "        if img_src and img_src.startswith(('http://', 'https://')):\n",
        "            images.append(img_src)\n",
        "        elif img_src:\n",
        "            # Handle relative URLs by trying to construct an absolute URL\n",
        "            from urllib.parse import urljoin\n",
        "            abs_img_src = urljoin(url, img_src)\n",
        "            images.append(abs_img_src)\n",
        "\n",
        "    images_data = [\", \".join(images)]\n",
        "    images_column_data = {\"Images\": images_data}\n",
        "\n",
        "    return images_column_data\n",
        "\n",
        "def locationExt(soup):\n",
        "    pattern = r'<p[^>]*>(.*?)\\s*•\\s*</p>'\n",
        "    match = re.search(pattern, soup)\n",
        "\n",
        "    extracted_location = \"\"\n",
        "    if match:\n",
        "        extracted_location = match.group(1).strip()\n",
        "    location_column_data = {\"Location\": extracted_location}\n",
        "\n",
        "    return location_column_data\n"
      ]
    },
    {
      "cell_type": "code",
      "source": [
        "\n",
        "def contentExt(soup):\n",
        "    content_elements = soup.find_all(['p', 'h1', 'h2', 'h3', 'h4', 'h5', 'h6', 'span', 'div', 'li', 'ol', 'ul'])\n",
        "\n",
        "    extracted_texts = []\n",
        "    seen_texts = set()\n",
        "\n",
        "    for element in content_elements:\n",
        "        if element.name in ['script', 'style', 'meta', 'link']: # Added more tags to skip\n",
        "            continue\n",
        "\n",
        "        text = element.get_text(strip=True)\n",
        "\n",
        "        if text and text not in seen_texts and len(text) > 10: # Filter short, potentially irrelevant texts\n",
        "            extracted_texts.append(text)\n",
        "            seen_texts.add(text)\n",
        "\n",
        "    article_content = \"\\n\\n\".join(extracted_texts)\n",
        "    content_column_data = {\"Collection\": article_content}\n",
        "\n",
        "    return content_column_data"
      ],
      "metadata": {
        "id": "23QPOTEZQpIw"
      },
      "execution_count": null,
      "outputs": []
    },
    {
      "cell_type": "code",
      "source": [
        "import re\n",
        "import pandas as pd\n",
        "\n",
        "def CategoriesExt(soup):\n",
        "    regex_pattern = r'<span class=\"m_1e0e6180 mantine-Pill-label\">(.*?)</span>'\n",
        "    raw_extracted_contents = re.findall(regex_pattern, soup)\n",
        "\n",
        "    # Clean up whitespace from each extracted item\n",
        "    extracted_categories = [content.strip() for content in raw_extracted_contents]\n",
        "\n",
        "    #print(f\"Extracted Output: '{extracted_categories}'\")\n",
        "    Categories_column_data = {\"Categories\": extracted_categories}\n",
        "\n",
        "    return Categories_column_data\n",
        "\n",
        "\n",
        "\n",
        "#df = pd.DataFrame({'Categories': [extracted_contents_cleaned]})\n"
      ],
      "metadata": {
        "id": "yJ90c7lPQ-qY"
      },
      "execution_count": null,
      "outputs": []
    },
    {
      "cell_type": "code",
      "source": [
        "\n",
        "import re\n",
        "from bs4 import BeautifulSoup\n",
        "\n",
        "def extract_author_with_regex(soup_content):\n",
        "    html_string = soup_content\n",
        "\n",
        "    author_pattern = r'<div[^>]*class=\"[^\"]*mantine-Stack-root[^\"]*\"[^>]*>.*?<p[^>]*>Author</p>.*?<a[^>]*href=\"[^\"]*authorName=[^\"]*\"[^>]*>([^<]+)</a>'\n",
        "    author_pattern_alt = r'<div[^>]*>.*?<p[^>]*>Author</p>.*?<span><a[^>]*href=\"[^\"]*authorName=[^\"]*\"[^>]*>([^<]+)</a></span>'\n",
        "    author_pattern_flexible = r'<p[^>]*>Author</p>.*?<a[^>]*href=\"[^\"]*authorName=([^\"&]+)\"[^>]*>([^<]+)</a>'\n",
        "\n",
        "    match = re.search(author_pattern, html_string, re.DOTALL | re.IGNORECASE)\n",
        "    if match:\n",
        "        extracted_author_name = match.group(1).strip()\n",
        "        Author_column_data = {\"Author\": extracted_author_name}\n",
        "        return Author_column_data\n",
        "\n",
        "    match = re.search(author_pattern_alt, html_string, re.DOTALL | re.IGNORECASE)\n",
        "    if match:\n",
        "        extracted_author_name = match.group(1).strip()\n",
        "        Author_column_data = {\"Author\": extracted_author_name}\n",
        "        return Author_column_data\n",
        "\n",
        "    match = re.search(author_pattern_flexible, html_string, re.DOTALL | re.IGNORECASE)\n",
        "    if match:\n",
        "        extracted_author_name = match.group(2).strip()\n",
        "        Author_column_data = {\"Author\": extracted_author_name}\n",
        "        return Author_column_data\n",
        "\n",
        "\n",
        "    return \"\"\n",
        "\n"
      ],
      "metadata": {
        "id": "YKajVBsGQ-t6"
      },
      "execution_count": null,
      "outputs": []
    },
    {
      "cell_type": "code",
      "source": [
        "def locationEXT(soup):\n",
        "    regex_pattern = r'<p\\s+class=\"mantine-focus-auto m_b6d8b162 mantine-Text-root\"\\s+style=\"[^\"]*font-weight:\\s*600;[^\"]*\">(.*?)</p>'\n",
        "\n",
        "    # Search for the pattern in the provided whole_soup_content\n",
        "    match = re.search(regex_pattern, soup, re.DOTALL)\n",
        "\n",
        "    extracted_location = \"\"\n",
        "    if match:\n",
        "        full_content_from_tag = match.group(1).strip() # Remove outer leading/trailing whitespace\n",
        "\n",
        "        extracted_location = full_content_from_tag.replace('•', '').strip()\n",
        "    extracted_location = extracted_location.replace(\"<!-- -->\",\"\")\n",
        "    location_column_data = {\"Location\": extracted_location}\n",
        "    #print(f\"\\nResulting column: {location_column_data}\")\n",
        "\n",
        "    return location_column_data\n"
      ],
      "metadata": {
        "id": "zRwKP4pmSJAM"
      },
      "execution_count": null,
      "outputs": []
    },
    {
      "cell_type": "code",
      "source": [
        "import requests\n",
        "def main(url):\n",
        "    try:\n",
        "        response = requests.get(url)\n",
        "        response.raise_for_status()  # Raise an exception for HTTP errors\n",
        "        soup = BeautifulSoup(response.text, 'html.parser')\n",
        "\n",
        "        Title = titlesExt(soup)\n",
        "        Images = imagesExt(soup)\n",
        "        Collection =contentExt(soup)\n",
        "\n",
        "\n",
        "        soup = str(soup)\n",
        "        Location = locationEXT(soup) #locationExt(soup)\n",
        "        Author = extract_author_with_regex(soup)  #AuthorName(soup) #Authorname(soup)\n",
        "        Categories = CategoriesExt(soup)\n",
        "\n",
        "        return Title,Location,Collection, Author,Categories,Images\n",
        "\n",
        "    except Exception as e:\n",
        "        print(f\"An unexpected error occurred: {e}\")\n",
        "        return \"\",\"\",\"\",\"\",\"\",\"\"\n",
        "\n",
        "if __name__ == \"__main__\":\n",
        "    #url = \"https://ruralindiaonline.org/article/my-mother-was-not-a-dayan\" #\"https://ruralindiaonline.org/article/beyond-disaster-and-wildlife-in-the-sundarbans\"\n",
        "    urls_excel_file = 'Rural_India_articles.xlsx'\n",
        "\n",
        "    all_articles_dfs = []\n",
        "\n",
        "    df_urls = pd.read_excel(urls_excel_file)\n",
        "\n",
        "    for index, row in df_urls.iterrows():\n",
        "        print(index,end=\" \")\n",
        "        article_url = row[0]\n",
        "\n",
        "        if article_url:\n",
        "            title, loc, collection,auth, categ, images  = main(article_url)\n",
        "            combined_data = {}\n",
        "            combined_data.update(title)\n",
        "            combined_data.update(loc)\n",
        "            combined_data.update(collection)\n",
        "            combined_data.update({\"Story link\":article_url})\n",
        "            combined_data.update(auth)\n",
        "            combined_data.update(categ)\n",
        "            combined_data.update(images)\n",
        "            data_for_df = {key: [value] for key, value in combined_data.items()}\n",
        "\n",
        "            df = pd.DataFrame(data_for_df)\n",
        "\n",
        "            if not df.empty:\n",
        "                all_articles_dfs.append(df)\n",
        "\n",
        "\n"
      ],
      "metadata": {
        "colab": {
          "base_uri": "https://localhost:8080/"
        },
        "id": "6wc3wpwkSQx9",
        "outputId": "3ef1b734-502f-43c8-ae8a-7c4eb72a7586"
      },
      "execution_count": null,
      "outputs": [
        {
          "metadata": {
            "tags": null
          },
          "name": "stdout",
          "output_type": "stream",
          "text": [
            "0 "
          ]
        },
        {
          "metadata": {
            "tags": null
          },
          "name": "stderr",
          "output_type": "stream",
          "text": [
            "<ipython-input-16-3932525292>:34: FutureWarning: Series.__getitem__ treating keys as positions is deprecated. In a future version, integer keys will always be treated as labels (consistent with DataFrame behavior). To access a value by position, use `ser.iloc[pos]`\n",
            "  article_url = row[0]\n"
          ]
        },
        {
          "output_type": "stream",
          "name": "stdout",
          "text": [
            "1 2 3 4 5 6 7 8 9 10 11 12 13 14 15 16 17 18 19 20 21 22 23 24 25 26 27 28 29 30 31 32 33 34 35 36 37 38 39 40 41 42 43 44 45 46 47 48 49 50 51 52 53 54 55 56 57 58 59 60 61 62 63 64 65 66 67 68 69 70 71 72 73 74 75 76 77 78 79 80 81 82 83 84 85 86 87 88 89 90 91 92 93 94 95 96 97 98 99 100 101 102 103 104 105 106 107 108 109 110 111 112 113 114 115 116 117 118 119 120 121 122 123 124 125 126 127 128 129 130 131 132 133 134 135 136 137 138 139 140 141 142 143 144 145 146 147 148 149 150 151 152 153 154 155 156 157 158 159 160 161 162 163 164 165 166 167 168 169 170 171 172 173 174 175 176 177 178 179 180 181 182 183 184 185 186 187 188 189 190 191 192 193 194 195 196 197 198 199 200 201 202 203 204 205 206 207 208 209 210 211 212 213 214 215 216 217 218 219 220 221 222 223 224 225 226 227 228 229 230 231 232 233 234 235 236 237 238 239 240 241 242 243 244 245 246 247 248 249 250 251 252 253 254 255 256 257 258 259 260 261 262 263 264 265 266 267 268 269 270 271 272 273 274 275 276 277 278 279 280 281 282 283 284 285 286 287 288 289 290 291 292 293 294 295 296 297 298 299 300 301 302 303 304 305 306 307 308 309 310 311 312 313 314 315 316 317 318 319 320 321 322 323 324 325 326 327 328 329 330 331 332 333 334 335 336 337 338 339 340 341 342 343 344 345 346 347 348 349 350 351 352 353 354 355 356 357 358 359 360 361 362 363 364 365 366 367 368 369 370 371 372 373 374 375 376 377 378 379 380 381 382 383 384 385 386 387 388 389 390 391 392 393 394 395 396 397 398 399 400 401 402 403 404 405 406 407 408 409 410 411 412 413 414 415 416 417 418 419 420 421 422 423 424 425 426 427 428 429 430 431 432 433 434 435 436 437 438 439 440 441 442 443 444 445 446 447 448 449 450 451 452 453 454 455 456 457 458 459 460 461 462 463 464 465 466 467 468 469 470 471 472 473 474 475 476 477 478 479 480 481 482 483 484 485 486 487 488 489 490 491 492 493 494 495 496 497 498 499 500 501 502 503 504 505 506 507 508 509 510 511 512 513 514 515 516 517 518 519 520 521 522 523 524 525 526 527 528 529 530 531 532 533 534 535 536 537 538 539 540 541 542 543 544 545 546 547 548 549 550 551 552 553 554 555 556 557 558 559 560 561 562 563 564 565 566 567 568 569 570 571 572 573 574 575 576 577 578 579 580 581 582 583 584 585 586 587 588 589 590 591 592 593 594 595 596 597 598 599 600 601 602 603 604 605 606 607 608 609 610 611 612 613 614 615 616 617 618 619 620 621 622 623 624 625 626 627 628 629 630 631 632 633 634 635 636 637 638 639 640 641 642 643 644 645 646 647 648 649 650 651 652 653 654 655 656 657 658 659 660 661 662 663 664 665 666 667 668 669 670 671 672 673 674 675 676 677 678 679 680 681 682 683 684 685 686 687 688 689 690 691 692 693 694 695 696 697 698 699 700 701 702 703 704 705 706 707 708 709 710 711 712 713 714 715 716 717 718 719 720 721 722 723 724 725 726 727 728 729 730 731 732 733 734 735 736 737 738 739 740 741 742 743 744 745 746 747 748 749 750 751 752 753 754 755 756 757 758 759 760 761 762 763 764 765 766 767 768 769 770 771 772 773 774 775 776 777 778 779 780 781 782 783 784 785 786 787 788 789 790 791 792 793 794 795 796 797 798 799 800 801 802 803 804 805 806 807 808 809 810 811 812 813 814 815 816 817 818 819 820 821 822 823 824 825 826 827 828 829 830 831 832 833 834 835 836 837 838 839 840 841 842 843 844 845 846 847 848 849 850 851 852 853 854 855 856 857 858 859 860 861 862 863 864 865 866 867 868 869 870 871 872 873 874 875 876 877 878 879 880 881 882 883 884 885 886 887 888 889 890 891 892 893 894 895 896 897 898 899 900 901 902 903 904 905 906 907 908 909 910 911 912 913 914 915 916 917 918 919 920 921 922 923 924 925 926 927 928 929 930 931 932 933 934 935 936 937 938 939 940 941 942 943 944 945 946 947 948 949 950 951 952 953 954 955 956 957 958 959 960 961 962 963 964 965 966 967 968 969 970 971 972 973 974 975 976 977 978 979 980 981 982 983 984 985 986 987 988 989 990 991 992 993 994 995 996 997 998 999 "
          ]
        }
      ]
    },
    {
      "cell_type": "code",
      "source": [
        "merged_df = pd.concat(all_articles_dfs, ignore_index=True)\n",
        "excel_file_name = \"Extracted_article_dataF sample.xlsx\"\n",
        "\n",
        "merged_df.to_excel(excel_file_name, index=False)"
      ],
      "metadata": {
        "id": "CxwH0qjzSb3F"
      },
      "execution_count": null,
      "outputs": []
    },
    {
      "cell_type": "code",
      "source": [],
      "metadata": {
        "id": "MByC_grWYIeT"
      },
      "execution_count": null,
      "outputs": []
    }
  ]
}